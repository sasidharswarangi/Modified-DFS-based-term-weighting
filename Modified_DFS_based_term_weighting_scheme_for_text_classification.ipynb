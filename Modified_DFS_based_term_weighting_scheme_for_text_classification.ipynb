{
  "nbformat": 4,
  "nbformat_minor": 0,
  "metadata": {
    "colab": {
      "name": "Copy of Modified DFS-based term weighting scheme for text classification.ipynb",
      "provenance": [],
      "collapsed_sections": [],
      "toc_visible": true,
      "include_colab_link": true
    },
    "kernelspec": {
      "display_name": "Python 3",
      "name": "python3"
    },
    "language_info": {
      "name": "python"
    }
  },
  "cells": [
    {
      "cell_type": "markdown",
      "metadata": {
        "id": "view-in-github",
        "colab_type": "text"
      },
      "source": [
        "<a href=\"https://colab.research.google.com/github/sasidharswarangi/Modified-DFS-based-term-weighting/blob/main/Modified_DFS_based_term_weighting_scheme_for_text_classification.ipynb\" target=\"_parent\"><img src=\"https://colab.research.google.com/assets/colab-badge.svg\" alt=\"Open In Colab\"/></a>"
      ]
    },
    {
      "cell_type": "markdown",
      "metadata": {
        "id": "s6ITZIGmXVwa"
      },
      "source": [
        "# Modified DFS-based term weighting scheme for text classification\n",
        "\n",
        "## Abstract\n",
        "\n",
        "With the rapid growth of textual data on the Internet, text classification (TC) has attracted increasing attention. As a widely used text representation method, the vector space model (VSM) represents the content of a document as a vector commposed of term frequeny (TF) in the term space. Because different terms have different levels of importance in a document, designing an appropriate term weighting scheme is crucial to improve performance of TC. In this study, we first conducted a comprehensive survey of the existing well-known term weighting schemes and found that they are not fully effective and that researchers are still focused on proposing new term weighting schemes. To further improve the performance of TC, we propose a new term weighting scheme based on the modified distinguishing feature selector (DFS), which we call TF-MDFS (modified DFS-based TF). Experimental results show that TF-MDFS is overall better than existing state-of-the-art term weighting schmes in terms of the classification accuracy of widely used base classifier.\n",
        "\n",
        "- Submitted by Abhishek Kumar (181CO201), Swarangi Sasidhar (181CO245)"
      ]
    },
    {
      "cell_type": "code",
      "metadata": {
        "id": "2yldUiuT579z"
      },
      "source": [
        "import pandas as pd\n",
        "import numpy as np\n",
        "import matplotlib.pyplot as plt"
      ],
      "execution_count": null,
      "outputs": []
    },
    {
      "cell_type": "code",
      "metadata": {
        "colab": {
          "base_uri": "https://localhost:8080/"
        },
        "id": "EQ4P-_mO7w9s",
        "outputId": "5f8138f5-5fb9-4d09-dce4-7e0937129575"
      },
      "source": [
        "from google.colab import drive\n",
        "drive.mount('/content/drive')"
      ],
      "execution_count": null,
      "outputs": [
        {
          "output_type": "stream",
          "text": [
            "Mounted at /content/drive\n"
          ],
          "name": "stdout"
        }
      ]
    },
    {
      "cell_type": "code",
      "metadata": {
        "id": "cyy5bf1ydb5y"
      },
      "source": [
        "def drive_path(file_name):\n",
        "  return '/content/drive/MyDrive/Modified DFS-based term weighting scheme for text classification/' + file_name"
      ],
      "execution_count": null,
      "outputs": []
    },
    {
      "cell_type": "markdown",
      "metadata": {
        "id": "Kwo_5WhZ73C7"
      },
      "source": [
        "## Pre-process Data\n",
        "\n",
        "1. Tokenization: Tokenization breaks down the stream of text into words, phrases and other meaningful elements called tokens. For example: the string `'Today will be a good day!'` is broken into tokens `['Today', 'will', 'be', 'a', 'good', 'day']`.\n",
        "\n",
        "2. Word Stemming: Stemming is the process of reducing inflected words to their word stem, a base or root form of the word.\n",
        "\n",
        "3. Lemmatization: Similar to stemming, lemmization also aims to reduce inflected word to their base form. However, lemmatization uses the context of the word as well as vocabulary rules to reduce the word whereas stemming operates on the word itself. Thus, stemming is easier to implement and faster but less accurate than lemmization.\n",
        "\n",
        "| Word | Stemming | Lemmatization |\n",
        "| ---- | -------- | ------------- |\n",
        "| Studying | Study | Study |\n",
        "| Studies  | Studi | Study |\n",
        "\n",
        "4. Removing Stop Words: Stop words are very common words like `'and'`, `'the'` and `'him'`. As such words will have high frequency (appearing in nearly every document) but are uninformative, we drop them from our list of tokens."
      ]
    },
    {
      "cell_type": "code",
      "metadata": {
        "colab": {
          "base_uri": "https://localhost:8080/"
        },
        "id": "k3-ujxvhIvIe",
        "outputId": "e38c42c5-2085-44e1-a03a-df51adb0d635"
      },
      "source": [
        "import nltk\n",
        "\n",
        "nltk.download('averaged_perceptron_tagger')\n",
        "nltk.download('punkt')\n",
        "nltk.download('stopwords')\n",
        "nltk.download('wordnet')"
      ],
      "execution_count": null,
      "outputs": [
        {
          "output_type": "stream",
          "text": [
            "[nltk_data] Downloading package averaged_perceptron_tagger to\n",
            "[nltk_data]     /root/nltk_data...\n",
            "[nltk_data]   Unzipping taggers/averaged_perceptron_tagger.zip.\n",
            "[nltk_data] Downloading package punkt to /root/nltk_data...\n",
            "[nltk_data]   Unzipping tokenizers/punkt.zip.\n",
            "[nltk_data] Downloading package stopwords to /root/nltk_data...\n",
            "[nltk_data]   Unzipping corpora/stopwords.zip.\n",
            "[nltk_data] Downloading package wordnet to /root/nltk_data...\n",
            "[nltk_data]   Unzipping corpora/wordnet.zip.\n"
          ],
          "name": "stdout"
        },
        {
          "output_type": "execute_result",
          "data": {
            "text/plain": [
              "True"
            ]
          },
          "metadata": {
            "tags": []
          },
          "execution_count": 4
        }
      ]
    },
    {
      "cell_type": "code",
      "metadata": {
        "id": "Zq3eCzMR72LV"
      },
      "source": [
        "from collections import defaultdict\n",
        "\n",
        "from nltk import pos_tag\n",
        "from nltk.corpus import stopwords, wordnet\n",
        "from nltk.stem import WordNetLemmatizer\n",
        "from nltk.tokenize import word_tokenize\n",
        "\n",
        "from sklearn.preprocessing import LabelEncoder\n",
        "\n",
        "lemma_mapping = defaultdict(lambda: wordnet.NOUN)\n",
        "lemma_mapping['J'] = wordnet.ADJ\n",
        "lemma_mapping['V'] = wordnet.VERB\n",
        "lemma_mapping['R'] = wordnet.ADV\n",
        "\n",
        "word_lemmatizer = WordNetLemmatizer()\n",
        "english_stopwords = stopwords.words('english')\n",
        "\n",
        "def pre_process(entry):\n",
        "  #  Convert all text to lower case\n",
        "  entry = entry.lower()\n",
        "\n",
        "  # Tokenize words\n",
        "  words = word_tokenize(entry)\n",
        "\n",
        "  # Remove words with non-alpabetic characters \n",
        "  words = list(filter(lambda word: word.isalpha(), words))\n",
        "\n",
        "  # Remove words in the stopword-list\n",
        "  # TODO: See if this step can be made faster\n",
        "  words = list(filter(lambda word: word not in english_stopwords, words))\n",
        "\n",
        "  # Lemmatize words into a standard form\n",
        "  standardized_words = [word_lemmatizer.lemmatize(word, lemma_mapping[tag[0]]) for word, tag in pos_tag(words)]\n",
        "\n",
        "  return ' '.join(standardized_words)"
      ],
      "execution_count": null,
      "outputs": []
    },
    {
      "cell_type": "markdown",
      "metadata": {
        "id": "FgT2bEB_Bta3"
      },
      "source": [
        "## Load Datasets"
      ]
    },
    {
      "cell_type": "code",
      "metadata": {
        "id": "nIJBR02T4-tm"
      },
      "source": [
        "# Read the pickled dataframe or initialize empty dictionary\n",
        "\n",
        "import pickle\n",
        "\n",
        "datasets = {}\n",
        "\n",
        "import os\n",
        "\n",
        "if os.path.exists(drive_path('datasets.pkl')):\n",
        "  with open(drive_path('datasets.pkl'), 'rb') as f:\n",
        "    datasets = pickle.load(f)"
      ],
      "execution_count": null,
      "outputs": []
    },
    {
      "cell_type": "markdown",
      "metadata": {
        "id": "V3Uyx28HCbgh"
      },
      "source": [
        "### Amazon Review Dataset\n",
        "\n",
        "Source: https://raw.githubusercontent.com/Gunjitbedi/Text-Classification/master/corpus.csv"
      ]
    },
    {
      "cell_type": "code",
      "metadata": {
        "colab": {
          "base_uri": "https://localhost:8080/"
        },
        "id": "G3NSLHa39-X1",
        "outputId": "6a10416c-cb48-4e5c-9fbb-5ac1792e1db5"
      },
      "source": [
        "# Import Amazon Reviews\n",
        "\n",
        "if 'amazon_reviews' not in datasets:\n",
        "  amazon_reviews = pd.read_csv(drive_path('amazon_reviews.csv'))\n",
        "  amazon_reviews['text'].dropna(inplace=True)\n",
        "\n",
        "  datasets['amazon_reviews'] = {\n",
        "      'processed_text': amazon_reviews['text'].apply(lambda row: pre_process(row)),\n",
        "      'processed_label': LabelEncoder().fit_transform(amazon_reviews['label']),\n",
        "      'formal_name': 'Amazon Review Dataset'\n",
        "  }\n",
        "\n",
        "print(datasets['amazon_reviews']['processed_text'][:5])\n",
        "print(datasets['amazon_reviews']['processed_label'][:5])"
      ],
      "execution_count": null,
      "outputs": [
        {
          "output_type": "stream",
          "text": [
            "0    stun even sound track beautiful paint senery m...\n",
            "1    best soundtrack ever anything reading lot revi...\n",
            "2    amaze soundtrack favorite music time hand inte...\n",
            "3    excellent soundtrack truly like soundtrack enj...\n",
            "4    remember pull jaw floor hear played game know ...\n",
            "Name: text, dtype: object\n",
            "[1 1 1 1 1]\n"
          ],
          "name": "stdout"
        }
      ]
    },
    {
      "cell_type": "markdown",
      "metadata": {
        "id": "0dqk9DELCdZG"
      },
      "source": [
        "### Polarity v2.0 Movie Review Dataset\n",
        "\n",
        "The Polarity v2.0 Moview Review Dataset contains 1000 positive and 1000 negative movie reviews taken from IMbD archive of [rec.arts.movies.reviews.newgroup](http://reviews.imdb.com/Reviews).\n",
        "\n",
        "Source: https://www.kaggle.com/anindya2906/movie-review-polarity"
      ]
    },
    {
      "cell_type": "code",
      "metadata": {
        "colab": {
          "base_uri": "https://localhost:8080/"
        },
        "id": "rz6S-FLak4dw",
        "outputId": "a51c3d68-da54-4e99-a7c2-a02e984a02b3"
      },
      "source": [
        "# Import Movie Reviews\n",
        "\n",
        "if 'movie_reviews' not in datasets:\n",
        "  movie_reviews = pd.read_csv(drive_path('movie_reviews.csv'))\n",
        "\n",
        "  movie_reviews['text'].dropna(inplace=True)\n",
        "\n",
        "  datasets['movie_reviews'] = {\n",
        "      'processed_text': movie_reviews['text'].apply(lambda row: pre_process(row)),\n",
        "      'processed_label': LabelEncoder().fit_transform(movie_reviews['label']),\n",
        "      'formal_name': 'Polarity v2.0 Movie Review Dataset'\n",
        "  }\n",
        "\n",
        "print(datasets['movie_reviews']['processed_text'][:5])\n",
        "print(datasets['movie_reviews']['processed_label'][:5])"
      ],
      "execution_count": null,
      "outputs": [
        {
          "output_type": "stream",
          "text": [
            "0    watch first ten minute japanese film never eat...\n",
            "1    scary movie anyhow movie person get rip shred ...\n",
            "2    time reason baby sitter recently go multiplex ...\n",
            "3    attempt florida film noir palmetto fail fundam...\n",
            "4    review visit clear illusion www clearillusions...\n",
            "Name: text, dtype: object\n",
            "[1 1 0 0 1]\n"
          ],
          "name": "stdout"
        }
      ]
    },
    {
      "cell_type": "markdown",
      "metadata": {
        "id": "o2vTZBT-WnFT"
      },
      "source": [
        "### RSS Feed Topics Dataset\n",
        "\n",
        "The RSS Feed Topics Dataset has 5974 articles with their title and content, classified into eight different categories like entertainments, news and others.\n",
        "\n",
        "Source: https://www.kaggle.com/brobear1995/rss-feed-topic-classifier"
      ]
    },
    {
      "cell_type": "code",
      "metadata": {
        "colab": {
          "base_uri": "https://localhost:8080/"
        },
        "id": "sRDv7d1CW55K",
        "outputId": "0f9419e0-f655-420f-c4e1-6b99a7762583"
      },
      "source": [
        "# Import RSS Topics\n",
        "\n",
        "if 'rss_topics' not in datasets:\n",
        "  rss_topics = pd.read_csv(drive_path('rss_topics.csv'))\n",
        "\n",
        "  rss_topics['title'].dropna(inplace=True)\n",
        "\n",
        "  datasets['rss_topics'] = {\n",
        "      'processed_text': rss_topics['title'].apply(lambda row: pre_process(row)),\n",
        "      'processed_label': LabelEncoder().fit_transform(rss_topics['Topic']),\n",
        "      'formal_name': 'RSS Feed Topics Dataset'\n",
        "  }\n",
        "\n",
        "print(datasets['rss_topics']['processed_text'][:5])\n",
        "print(datasets['rss_topics']['processed_label'][:5])"
      ],
      "execution_count": null,
      "outputs": [
        {
          "output_type": "stream",
          "text": [
            "0    ad password policy compare nist password recom...\n",
            "1    hacker use fake trump scandal video spread qno...\n",
            "2    russian hacker get prison massive jp morgan ch...\n",
            "3    google api help attacker easily bypass google ...\n",
            "4    secret backdoor account find several zyxel fir...\n",
            "Name: title, dtype: object\n",
            "[3 3 3 3 3]\n"
          ],
          "name": "stdout"
        }
      ]
    },
    {
      "cell_type": "code",
      "metadata": {
        "id": "0mAz5oa8Ax96"
      },
      "source": [
        "# Pickle back the processed datasets into a file\n",
        "\n",
        "import pickle\n",
        "\n",
        "with open(drive_path('datasets.pkl'), 'wb') as f:\n",
        "  pickle.dump(datasets, f)"
      ],
      "execution_count": null,
      "outputs": []
    },
    {
      "cell_type": "markdown",
      "metadata": {
        "id": "eC4oZdy-B7Iu"
      },
      "source": [
        "## Train Models\n",
        "\n",
        "Similar to the paper, we will be using Naive-Bayes Classifier, Support Vector Machines and Logistic Regression to classify the documents."
      ]
    },
    {
      "cell_type": "code",
      "metadata": {
        "id": "LL_URo2LLhlw"
      },
      "source": [
        "# Train Naive-Bayes Classifier\n",
        "\n",
        "from sklearn import naive_bayes\n",
        "\n",
        "def train_naive_bayes(x_train, y_train, x_test, y_test):\n",
        "  classifier = naive_bayes.MultinomialNB()\n",
        "  classifier.fit(x_train, y_train)\n",
        "  \n",
        "  return classifier.predict(x_test)"
      ],
      "execution_count": null,
      "outputs": []
    },
    {
      "cell_type": "code",
      "metadata": {
        "id": "nlhyIIHFCkw1"
      },
      "source": [
        "# Train SVM\n",
        "\n",
        "from sklearn.svm import SVC\n",
        "\n",
        "def train_svm(x_train, y_train, x_test, y_test):\n",
        "  classifier = SVC()\n",
        "  classifier.fit(x_train, y_train)\n",
        "  \n",
        "  return classifier.predict(x_test)"
      ],
      "execution_count": null,
      "outputs": []
    },
    {
      "cell_type": "code",
      "metadata": {
        "id": "-El_eEyCLvhs"
      },
      "source": [
        "# Train Logistic Regression\n",
        "\n",
        "from sklearn.linear_model import LogisticRegression\n",
        "\n",
        "def train_logistic_regression(x_train, y_train, x_test, y_test):\n",
        "  classifier = LogisticRegression()\n",
        "  classifier.fit(x_train, y_train)\n",
        "\n",
        "  return classifier.predict(x_test)"
      ],
      "execution_count": null,
      "outputs": []
    },
    {
      "cell_type": "code",
      "metadata": {
        "id": "F5m8JqncOkzH"
      },
      "source": [
        "# Helper function which calls the specific ML models\n",
        "\n",
        "from sklearn.metrics import accuracy_score\n",
        "\n",
        "def train_models(x_train, y_train, x_test, y_test):\n",
        "  naive_bayes_predictions = train_naive_bayes(x_train, y_train, x_test, y_test)\n",
        "  svm_predictions = train_svm(x_train, y_train, x_test, y_test)\n",
        "  logistic_regression_predictions = train_logistic_regression(x_train, y_train, x_test, y_test)\n",
        "\n",
        "  return (\n",
        "      100 * accuracy_score(naive_bayes_predictions, y_test),\n",
        "      100 * accuracy_score(svm_predictions, y_test),\n",
        "      100 * accuracy_score(logistic_regression_predictions, y_test)\n",
        "  )"
      ],
      "execution_count": null,
      "outputs": []
    },
    {
      "cell_type": "markdown",
      "metadata": {
        "id": "vRsEnXgm_kL3"
      },
      "source": [
        "## Calculate Weights for Vector Space Model\n",
        "\n",
        "ML Models cannot operate directly on the textual data of the documents. They are represented as **Vector Space Model**, that is a vector of identifiers and the models operate on the vectors as usual.\n",
        "\n",
        "The documents are transformed into vectors through a **term-weighting scheme** and since the term weighting scheme encodes all textual information about document, designing an appropriate term-weighting scheme is crucial.\n"
      ]
    },
    {
      "cell_type": "code",
      "metadata": {
        "id": "cvaF3xceel9e"
      },
      "source": [
        "# Split data into training and testing\n",
        "from sklearn.model_selection import train_test_split\n",
        "\n",
        "for name, dataset in datasets.items():\n",
        "  X_train, X_test, Y_train, Y_test = train_test_split(\n",
        "      dataset['processed_text'], \n",
        "      dataset['processed_label'], \n",
        "      test_size=0.2, \n",
        "      random_state=42\n",
        "  )\n",
        "  \n",
        "  datasets[name]['X_train'] = X_train\n",
        "  datasets[name]['X_test']  = X_test\n",
        "  \n",
        "  datasets[name]['Y_train'] = Y_train\n",
        "  datasets[name]['Y_test']  = Y_test"
      ],
      "execution_count": null,
      "outputs": []
    },
    {
      "cell_type": "markdown",
      "metadata": {
        "id": "qX-vWV87CjYt"
      },
      "source": [
        "### Term Frequency\n",
        "\n",
        "The simplest term-weighting scheme is **Term Frequency**. It selects the most frequently occuring terms and for each document, notes the number of times the term appears in the document.\n",
        "\n",
        "Formally,\n",
        "\n",
        "$$tf(t, d) = f(t, d)$$\n"
      ]
    },
    {
      "cell_type": "code",
      "metadata": {
        "id": "aCxHnNNiWW_A"
      },
      "source": [
        "# Build Count Vector\n",
        "\n",
        "from sklearn.feature_extraction.text import CountVectorizer\n",
        "\n",
        "for name, dataset in datasets.items():\n",
        "  count_vectorizer = CountVectorizer(max_features=1000)  \n",
        "  count_vectorizer.fit(datasets[name]['X_train'])\n",
        "\n",
        "  datasets[name]['X_train_counts'] = count_vectorizer.transform(dataset['X_train'])\n",
        "  datasets[name]['X_test_counts'] = count_vectorizer.transform(dataset['X_test'])\n",
        "\n",
        "  bigram_vectorizer = CountVectorizer(max_features=5000,\n",
        "                                      ngram_range=(1, 2),\n",
        "                                      token_pattern=r'\\b\\w+\\b',\n",
        "                                      min_df=1)\n",
        "\n",
        "  bigram_vectorizer.fit(datasets[name]['X_train'])\n",
        "  datasets[name]['X_train_bigram_counts'] = bigram_vectorizer.transform(dataset['X_train'])\n",
        "  datasets[name]['X_test_bigram_counts'] = bigram_vectorizer.transform(dataset['X_test'])"
      ],
      "execution_count": null,
      "outputs": []
    },
    {
      "cell_type": "code",
      "metadata": {
        "colab": {
          "base_uri": "https://localhost:8080/"
        },
        "id": "DwwGLuduXMU1",
        "outputId": "66f6d809-843e-4dc8-c93c-5db1d2640d70"
      },
      "source": [
        "# Use TF as the metric\n",
        "\n",
        "from sklearn.metrics import accuracy_score\n",
        "\n",
        "tf_accuracies = {}\n",
        "bigram_tf_accuracies = {}\n",
        "\n",
        "for name, dataset in datasets.items():\n",
        "  tf_accuracies[name] = train_models(\n",
        "      dataset['X_train_counts'],\n",
        "      dataset['Y_train'],\n",
        "      dataset['X_test_counts'],\n",
        "      dataset['Y_test']\n",
        "  )\n",
        "\n",
        "  bigram_tf_accuracies[name] = train_models(\n",
        "      dataset['X_train_bigram_counts'],\n",
        "      dataset['Y_train'],\n",
        "      dataset['X_test_bigram_counts'],\n",
        "      dataset['Y_test']\n",
        "  )\n",
        "\n",
        "print('Term Frequency')\n",
        "print(tf_accuracies)\n",
        "print(bigram_tf_accuracies)"
      ],
      "execution_count": null,
      "outputs": [
        {
          "output_type": "stream",
          "text": [
            "/usr/local/lib/python3.7/dist-packages/sklearn/linear_model/_logistic.py:940: ConvergenceWarning: lbfgs failed to converge (status=1):\n",
            "STOP: TOTAL NO. of ITERATIONS REACHED LIMIT.\n",
            "\n",
            "Increase the number of iterations (max_iter) or scale the data as shown in:\n",
            "    https://scikit-learn.org/stable/modules/preprocessing.html\n",
            "Please also refer to the documentation for alternative solver options:\n",
            "    https://scikit-learn.org/stable/modules/linear_model.html#logistic-regression\n",
            "  extra_warning_msg=_LOGISTIC_SOLVER_CONVERGENCE_MSG)\n",
            "/usr/local/lib/python3.7/dist-packages/sklearn/linear_model/_logistic.py:940: ConvergenceWarning: lbfgs failed to converge (status=1):\n",
            "STOP: TOTAL NO. of ITERATIONS REACHED LIMIT.\n",
            "\n",
            "Increase the number of iterations (max_iter) or scale the data as shown in:\n",
            "    https://scikit-learn.org/stable/modules/preprocessing.html\n",
            "Please also refer to the documentation for alternative solver options:\n",
            "    https://scikit-learn.org/stable/modules/linear_model.html#logistic-regression\n",
            "  extra_warning_msg=_LOGISTIC_SOLVER_CONVERGENCE_MSG)\n",
            "/usr/local/lib/python3.7/dist-packages/sklearn/linear_model/_logistic.py:940: ConvergenceWarning: lbfgs failed to converge (status=1):\n",
            "STOP: TOTAL NO. of ITERATIONS REACHED LIMIT.\n",
            "\n",
            "Increase the number of iterations (max_iter) or scale the data as shown in:\n",
            "    https://scikit-learn.org/stable/modules/preprocessing.html\n",
            "Please also refer to the documentation for alternative solver options:\n",
            "    https://scikit-learn.org/stable/modules/linear_model.html#logistic-regression\n",
            "  extra_warning_msg=_LOGISTIC_SOLVER_CONVERGENCE_MSG)\n",
            "/usr/local/lib/python3.7/dist-packages/sklearn/linear_model/_logistic.py:940: ConvergenceWarning: lbfgs failed to converge (status=1):\n",
            "STOP: TOTAL NO. of ITERATIONS REACHED LIMIT.\n",
            "\n",
            "Increase the number of iterations (max_iter) or scale the data as shown in:\n",
            "    https://scikit-learn.org/stable/modules/preprocessing.html\n",
            "Please also refer to the documentation for alternative solver options:\n",
            "    https://scikit-learn.org/stable/modules/linear_model.html#logistic-regression\n",
            "  extra_warning_msg=_LOGISTIC_SOLVER_CONVERGENCE_MSG)\n"
          ],
          "name": "stderr"
        },
        {
          "output_type": "stream",
          "text": [
            "Term Frequency\n",
            "{'amazon_reviews': (80.5, 82.19999999999999, 82.65), 'movie_reviews': (79.25, 80.25, 80.0), 'rss_topics': (65.53191489361701, 61.361702127659576, 67.14893617021276)}\n",
            "{'amazon_reviews': (83.1, 83.85000000000001, 83.55), 'movie_reviews': (79.5, 80.75, 84.75), 'rss_topics': (68.08510638297872, 61.361702127659576, 67.74468085106383)}\n"
          ],
          "name": "stdout"
        }
      ]
    },
    {
      "cell_type": "markdown",
      "metadata": {
        "id": "r-E48h3DClCI"
      },
      "source": [
        "### Term Frequency Inverse Document Frequency\n",
        "\n",
        "In a large corpus, certain words like \"the\", \"is\" have limited discriminating power because they appear frequently and in most documents. In constrast, a term that appears frequently but rarely (that is, in concentrated manner) should have greater weights.\n",
        "\n",
        "**Term Frequency Inverse Document Frequency** models the above intuition with the following equation:\n",
        "\n",
        "$$tf-idf(t, d) = tf(t, d) \\times idf(t)$$\n",
        "\n",
        "$$idf(t) = 1 + log\\frac{1 + n}{1 + df(t)}$$\n",
        "\n",
        "where $tf(t, d)$ is the term frequency, $df(t)$ is the number of documents that contain the term $t$ and $n$ is the total number of documents."
      ]
    },
    {
      "cell_type": "code",
      "metadata": {
        "id": "Xlt0WhT-Nc8k",
        "colab": {
          "base_uri": "https://localhost:8080/"
        },
        "outputId": "188e1b59-7ef2-4b12-b28a-c126768ebcfb"
      },
      "source": [
        "# Use TF-IDF as the metric\n",
        "\n",
        "from sklearn.feature_extraction.text import TfidfTransformer\n",
        "\n",
        "tf_idf_accuracies = {}\n",
        "bigram_tf_idf_accuracies = {}\n",
        "\n",
        "for name, dataset in datasets.items():\n",
        "  tf_idf_transformer = TfidfTransformer()\n",
        "  tf_idf_transformer.fit(dataset['X_train_counts'])\n",
        "\n",
        "  tf_idf_train = tf_idf_transformer.transform(dataset['X_train_counts'])\n",
        "  tf_idf_test = tf_idf_transformer.transform(dataset['X_test_counts'])\n",
        "\n",
        "  tf_idf_accuracies[name] = train_models(\n",
        "      tf_idf_train,\n",
        "      dataset['Y_train'],\n",
        "      tf_idf_test,\n",
        "      dataset['Y_test']\n",
        "  )\n",
        "\n",
        "  bigram_tf_idf_transformer = TfidfTransformer()\n",
        "  bigram_tf_idf_transformer.fit(dataset['X_train_bigram_counts'])\n",
        "\n",
        "  bigram_tf_idf_train = bigram_tf_idf_transformer.transform(dataset['X_train_bigram_counts'])\n",
        "  bigram_tf_idf_test = bigram_tf_idf_transformer.transform(dataset['X_test_bigram_counts'])\n",
        "\n",
        "  bigram_tf_idf_accuracies[name] = train_models(\n",
        "      bigram_tf_idf_train,\n",
        "      dataset['Y_train'],\n",
        "      bigram_tf_idf_test,\n",
        "      dataset['Y_test']\n",
        "  )\n",
        "\n",
        "print('Term Frequency Inverse Document Frequency')\n",
        "print(tf_idf_accuracies)\n",
        "print(bigram_tf_idf_accuracies)"
      ],
      "execution_count": null,
      "outputs": [
        {
          "output_type": "stream",
          "text": [
            "Term Frequency Inverse Document Frequency\n",
            "{'amazon_reviews': (81.45, 83.35000000000001, 82.65), 'movie_reviews': (79.0, 83.0, 82.5), 'rss_topics': (64.25531914893618, 65.53191489361701, 65.1063829787234)}\n",
            "{'amazon_reviews': (84.25, 84.89999999999999, 84.65), 'movie_reviews': (80.25, 83.0, 83.25), 'rss_topics': (61.191489361702125, 64.85106382978724, 64.68085106382979)}\n"
          ],
          "name": "stdout"
        }
      ]
    },
    {
      "cell_type": "markdown",
      "metadata": {
        "id": "8r6CvmoDCoE8"
      },
      "source": [
        "### Term Frequency Modified Distinguishing Feature Selector\n",
        "\n",
        "An ideal feature selection method should assign high scores to distintive terms while assigning lower scores to irrelevant features. In particular, if a term:\n",
        "- Occurs frequently in a single class and does not occur in other classes, it is distinctive.\n",
        "- Occurs frequently in all classes, it is irrelevant.\n",
        "- Occurs rarely in a single class and does not occur in other classes, it is irrelevant.\n",
        "- Occurs in some of the classes, it is relatively distinctive.\n",
        "\n",
        "**Term Frequency Modified Distinguishing Feature Selector** models the above intuition with the following equations:\n",
        "\n",
        "$$tf-mdfs(t,d) = mdfs(t) \\times tf(t, d)$$\n",
        "\n",
        "$$mdfs(t_i) = \\sum_{j = 1}^{q} w_{ij} mdfs(t_i, c_j)$$\n",
        "\n",
        "$$w_{ij} = log (\\, 1 + \\frac{df(t_i, c_j)}{max(1, df(\\bar{t_i}, c))} \\times \\frac{df(\\bar{t_i}, \\bar{c_j})}{max(1, df(t_i, \\bar{c_j}))} ) $$\n",
        "\n",
        "$$mdfs(t_i, c_j) = \\frac{P(c_j | t_i) P(\\bar{c_j} | \\bar{t_i})}{1 + P(\\bar{c_j} | t_i) + P(c_j | \\bar{t_i})}$$\n",
        "\n",
        "where \n",
        "\n",
        "$tf(t, d)$ is the term frequency of term $t$ in document $d$,\n",
        "\n",
        "$df(t, c)$ is the number of documents of class $c$ that have term $t$ and\n",
        "\n",
        "$P(c_j | t_i)$ represents the probablity of document belong to class $c_j$ given that it has the term $t_i$."
      ]
    },
    {
      "cell_type": "code",
      "metadata": {
        "id": "9lNXPCmKWzkw"
      },
      "source": [
        "# Use TF-MDFS as the metric\n",
        "\n",
        "def mdfs_fit(X_train_counts, Y_train):\n",
        "  nr_labels = max(Y_train)\n",
        "  mdfs = np.zeros(X_train_counts.shape[1] + 1)\n",
        "\n",
        "  X_train_labelled_counts = np.append(\n",
        "    X_train_counts.toarray(), \n",
        "    Y_train.copy().reshape(X_train_counts.shape[0], 1), \n",
        "    axis=1\n",
        "  )\n",
        "\n",
        "  term_frequency = np.count_nonzero(\n",
        "      X_train_labelled_counts,\n",
        "      axis=0\n",
        "  )\n",
        "\n",
        "  term_absent_frequency = X_train_labelled_counts.shape[0] - term_frequency\n",
        "\n",
        "  for label in range(nr_labels + 1):\n",
        "    label_mask = (X_train_labelled_counts[:, -1] == label)\n",
        "\n",
        "    label_frequency = label_mask.sum()\n",
        "    label_absent_frequency = X_train_labelled_counts.shape[0] - label_frequency  \n",
        "\n",
        "    label_given_term = np.count_nonzero(\n",
        "      X_train_labelled_counts[label_mask],\n",
        "      axis=0\n",
        "    )\n",
        "\n",
        "    label_absent_given_term = term_frequency - label_given_term\n",
        "\n",
        "    label_given_term_absent = label_frequency - label_given_term\n",
        "    label_absent_given_term_absent = label_absent_frequency - label_absent_given_term\n",
        "\n",
        "    p_label_given_term = label_given_term / term_frequency\n",
        "    p_label_absent_given_term = 1 - p_label_given_term\n",
        "\n",
        "    p_label_given_term_absent = label_given_term_absent / term_absent_frequency\n",
        "    p_label_absent_given_term_absent = 1 - p_label_given_term_absent\n",
        "\n",
        "    label_specific_dfs = (\n",
        "      (p_label_given_term * p_label_absent_given_term_absent)\n",
        "      /\n",
        "      (\n",
        "        p_label_absent_given_term \n",
        "        + p_label_absent_given_term_absent \n",
        "        + 1\n",
        "      )\n",
        "    )\n",
        "\n",
        "    label_given_term_absent[label_given_term_absent < 1] = 1\n",
        "    label_absent_given_term[label_absent_given_term < 1] = 1\n",
        "\n",
        "    label_specific_weight = np.log(\n",
        "      1\n",
        "      + \n",
        "      (\n",
        "        (label_given_term * label_absent_given_term_absent)\n",
        "        /\n",
        "        (label_absent_given_term * label_given_term_absent)\n",
        "      )\n",
        "    )\n",
        "\n",
        "    mdfs = mdfs + label_specific_dfs * label_specific_weight\n",
        "\n",
        "  return np.nan_to_num(mdfs, nan=0)[:-1]"
      ],
      "execution_count": null,
      "outputs": []
    },
    {
      "cell_type": "code",
      "metadata": {
        "id": "tPaSCje8yRQA",
        "colab": {
          "base_uri": "https://localhost:8080/"
        },
        "outputId": "54b326ec-6b45-42c8-a543-67c4eb2917be"
      },
      "source": [
        "tf_mdfs_accuracies = {}\n",
        "bigram_tf_mdfs_accuracies = {}\n",
        "\n",
        "for name, dataset in datasets.items():\n",
        "  mdfs = mdfs_fit(dataset['X_train_counts'], dataset['Y_train'])\n",
        "\n",
        "  tf_mdfs_train = dataset['X_train_counts'].multiply(mdfs)\n",
        "  tf_mdfs_test = dataset['X_test_counts'].multiply(mdfs)\n",
        "\n",
        "  tf_mdfs_accuracies[name] = train_models(\n",
        "      tf_mdfs_train,\n",
        "      dataset['Y_train'],\n",
        "      tf_mdfs_test,\n",
        "      dataset['Y_test']\n",
        "  )\n",
        "\n",
        "  bigram_mdfs = mdfs_fit(dataset['X_train_bigram_counts'], dataset['Y_train'])\n",
        "  \n",
        "  bigram_tf_mdfs_train = dataset['X_train_bigram_counts'].multiply(bigram_mdfs)\n",
        "  bigram_tf_mdfs_test  = dataset['X_test_bigram_counts'].multiply(bigram_mdfs)\n",
        "\n",
        "  bigram_tf_mdfs_accuracies[name] = train_models(\n",
        "      bigram_tf_mdfs_train,\n",
        "      dataset['Y_train'],\n",
        "      bigram_tf_mdfs_test,\n",
        "      dataset['Y_test']\n",
        "  )\n",
        "\n",
        "print('Term Frequency Modified-Distinguishing Feature Selector')\n",
        "print(tf_mdfs_accuracies)\n",
        "print(bigram_tf_mdfs_accuracies)"
      ],
      "execution_count": null,
      "outputs": [
        {
          "output_type": "stream",
          "text": [
            "/usr/local/lib/python3.7/dist-packages/sklearn/linear_model/_logistic.py:940: ConvergenceWarning: lbfgs failed to converge (status=1):\n",
            "STOP: TOTAL NO. of ITERATIONS REACHED LIMIT.\n",
            "\n",
            "Increase the number of iterations (max_iter) or scale the data as shown in:\n",
            "    https://scikit-learn.org/stable/modules/preprocessing.html\n",
            "Please also refer to the documentation for alternative solver options:\n",
            "    https://scikit-learn.org/stable/modules/linear_model.html#logistic-regression\n",
            "  extra_warning_msg=_LOGISTIC_SOLVER_CONVERGENCE_MSG)\n"
          ],
          "name": "stderr"
        },
        {
          "output_type": "stream",
          "text": [
            "Term Frequency Modified-Distinguishing Feature Selector\n",
            "{'amazon_reviews': (81.6, 83.5, 83.25), 'movie_reviews': (80.75, 83.0, 81.25), 'rss_topics': (65.4468085106383, 64.68085106382979, 65.95744680851064)}\n",
            "{'amazon_reviews': (84.05, 85.15, 85.6), 'movie_reviews': (79.5, 84.0, 85.0), 'rss_topics': (70.04255319148936, 65.1063829787234, 68.76595744680851)}\n"
          ],
          "name": "stdout"
        }
      ]
    },
    {
      "cell_type": "markdown",
      "metadata": {
        "id": "E1N4qCCzOpDt"
      },
      "source": [
        "## Results"
      ]
    },
    {
      "cell_type": "markdown",
      "metadata": {
        "id": "MoB1p8oBz_IW"
      },
      "source": [
        "### Overall Accuracy"
      ]
    },
    {
      "cell_type": "code",
      "metadata": {
        "id": "dT7YH5QF4R0j"
      },
      "source": [
        "def draw_label(axes, rects):\n",
        "  for rect in rects:\n",
        "    height = rect.get_height()\n",
        "    axes.text(\n",
        "        rect.get_x() + rect.get_width()/2, \n",
        "        1.01 * height,\n",
        "        str(round(height, 2)),\n",
        "        ha='center',\n",
        "        va='bottom'\n",
        "    ),\n",
        "\n",
        "def draw_bar_graph(df, title):\n",
        "  N = df.shape[0]\n",
        "  indices = np.arange(N)\n",
        "  width = 0.2\n",
        "\n",
        "  figure, axes = plt.subplots(figsize=(12, 8))\n",
        "\n",
        "  tf_rect = axes.bar(\n",
        "      indices, \n",
        "      df['TF Accuracy'], \n",
        "      width,\n",
        "      color='blue'\n",
        "  )\n",
        "  tf_idf_rect = axes.bar(\n",
        "      indices + width, \n",
        "      df['TF-IDF Accuracy'], \n",
        "      width,\n",
        "      color='orange'\n",
        "  )\n",
        "\n",
        "  tf_mdfs_rect = axes.bar(\n",
        "      indices + 2*width,\n",
        "      df['TF-MDFS Accuracy'],\n",
        "      width,\n",
        "      color='green'\n",
        "  )\n",
        "\n",
        "  axes.set_xlabel('Datasets')\n",
        "  axes.set_xticks(indices + width)\n",
        "  axes.set_xticklabels(df['Dataset'])\n",
        "  \n",
        "  axes.set_ylabel('Accuracy')\n",
        "  axes.set_title(title)\n",
        "\n",
        "  axes.legend(\n",
        "      (tf_rect[0], tf_idf_rect[0], tf_mdfs_rect[0]),\n",
        "      ('TF', 'TF-IDF', 'TF-MDFS'),\n",
        "      bbox_to_anchor=(1.13, 1.01)\n",
        "  )\n",
        "  \n",
        "  draw_label(axes, tf_rect)\n",
        "  draw_label(axes, tf_idf_rect)\n",
        "  draw_label(axes, tf_mdfs_rect)\n",
        "  \n",
        "  plt.show()"
      ],
      "execution_count": null,
      "outputs": []
    },
    {
      "cell_type": "code",
      "metadata": {
        "id": "Z5h-jJaB0LU1",
        "colab": {
          "base_uri": "https://localhost:8080/",
          "height": 178
        },
        "outputId": "d52d87c7-cec1-4bb2-a9fb-a547d3e0a0f7"
      },
      "source": [
        "print('Overall Accuracy:\\n')\n",
        "\n",
        "overall_accuracies = []\n",
        "for name, dataset in datasets.items():\n",
        "  row = [\n",
        "    dataset['formal_name'],\n",
        "    round(sum(tf_accuracies[name])/len(tf_accuracies[name]), 3),\n",
        "    round(sum(tf_idf_accuracies[name])/len(tf_idf_accuracies[name]), 3),\n",
        "    round(sum(tf_mdfs_accuracies[name])/len(tf_mdfs_accuracies[name]), 3)     \n",
        "  ]\n",
        "  row.append(round(sum(tf_mdfs_accuracies[name])/len(tf_mdfs_accuracies[name]) - sum(tf_accuracies[name])/len(tf_accuracies[name]), 3))\n",
        "\n",
        "  overall_accuracies.append(row)\n",
        "\n",
        "overall_accuracies = pd.DataFrame(\n",
        "    overall_accuracies, \n",
        "    columns=['Dataset', 'TF Accuracy', 'TF-IDF Accuracy', 'TF-MDFS Accuracy', 'Improvement over TF']\n",
        ")\n",
        "\n",
        "with pd.option_context('display.max_colwidth', None):\n",
        "  display(overall_accuracies)"
      ],
      "execution_count": null,
      "outputs": [
        {
          "output_type": "stream",
          "text": [
            "Overall Accuracy:\n",
            "\n"
          ],
          "name": "stdout"
        },
        {
          "output_type": "display_data",
          "data": {
            "text/html": [
              "<div>\n",
              "<style scoped>\n",
              "    .dataframe tbody tr th:only-of-type {\n",
              "        vertical-align: middle;\n",
              "    }\n",
              "\n",
              "    .dataframe tbody tr th {\n",
              "        vertical-align: top;\n",
              "    }\n",
              "\n",
              "    .dataframe thead th {\n",
              "        text-align: right;\n",
              "    }\n",
              "</style>\n",
              "<table border=\"1\" class=\"dataframe\">\n",
              "  <thead>\n",
              "    <tr style=\"text-align: right;\">\n",
              "      <th></th>\n",
              "      <th>Dataset</th>\n",
              "      <th>TF Accuracy</th>\n",
              "      <th>TF-IDF Accuracy</th>\n",
              "      <th>TF-MDFS Accuracy</th>\n",
              "      <th>Improvement over TF</th>\n",
              "    </tr>\n",
              "  </thead>\n",
              "  <tbody>\n",
              "    <tr>\n",
              "      <th>0</th>\n",
              "      <td>Amazon Review Dataset</td>\n",
              "      <td>81.783</td>\n",
              "      <td>82.483</td>\n",
              "      <td>82.783</td>\n",
              "      <td>1.000</td>\n",
              "    </tr>\n",
              "    <tr>\n",
              "      <th>1</th>\n",
              "      <td>Polarity v2.0 Movie Review Dataset</td>\n",
              "      <td>79.833</td>\n",
              "      <td>81.500</td>\n",
              "      <td>81.667</td>\n",
              "      <td>1.833</td>\n",
              "    </tr>\n",
              "    <tr>\n",
              "      <th>2</th>\n",
              "      <td>RSS Feed Topics Dataset</td>\n",
              "      <td>64.681</td>\n",
              "      <td>64.965</td>\n",
              "      <td>65.362</td>\n",
              "      <td>0.681</td>\n",
              "    </tr>\n",
              "  </tbody>\n",
              "</table>\n",
              "</div>"
            ],
            "text/plain": [
              "                              Dataset  ...  Improvement over TF\n",
              "0               Amazon Review Dataset  ...                1.000\n",
              "1  Polarity v2.0 Movie Review Dataset  ...                1.833\n",
              "2             RSS Feed Topics Dataset  ...                0.681\n",
              "\n",
              "[3 rows x 5 columns]"
            ]
          },
          "metadata": {
            "tags": []
          }
        }
      ]
    },
    {
      "cell_type": "code",
      "metadata": {
        "id": "nJB0-Ixy39TA",
        "colab": {
          "base_uri": "https://localhost:8080/",
          "height": 513
        },
        "outputId": "ac2759b0-fbbd-4ab9-bc8e-b96994737b04"
      },
      "source": [
        "draw_bar_graph(overall_accuracies, 'Overall Accuracy')"
      ],
      "execution_count": null,
      "outputs": [
        {
          "output_type": "display_data",
          "data": {
            "image/png": "[encoded data removed]",
            "text/plain": [
              "<Figure size 864x576 with 1 Axes>"
            ]
          },
          "metadata": {
            "tags": [],
            "needs_background": "light"
          }
        }
      ]
    },
    {
      "cell_type": "markdown",
      "metadata": {
        "id": "GYPcr5HtZhNM"
      },
      "source": [
        "### Overall Accuracy for Bigrams"
      ]
    },
    {
      "cell_type": "code",
      "metadata": {
        "colab": {
          "base_uri": "https://localhost:8080/",
          "height": 178
        },
        "id": "ijMSUmQpZgsj",
        "outputId": "84e25e15-a482-4d1c-c8e0-45a72319743c"
      },
      "source": [
        "print('Overall Accuracy:\\n')\n",
        "\n",
        "overall_bigram_accuracies = []\n",
        "for name, dataset in datasets.items():\n",
        "  row = [\n",
        "    dataset['formal_name'],\n",
        "    round(sum(bigram_tf_accuracies[name])/len(bigram_tf_accuracies[name]), 3),\n",
        "    round(sum(bigram_tf_idf_accuracies[name])/len(bigram_tf_idf_accuracies[name]), 3),\n",
        "    round(sum(bigram_tf_mdfs_accuracies[name])/len(bigram_tf_mdfs_accuracies[name]), 3)     \n",
        "  ]\n",
        "  row.append(round(sum(bigram_tf_mdfs_accuracies[name])/len(bigram_tf_mdfs_accuracies[name]) - sum(bigram_tf_accuracies[name])/len(bigram_tf_accuracies[name]), 3))\n",
        "\n",
        "  overall_bigram_accuracies.append(row)\n",
        "\n",
        "overall_bigram_accuracies = pd.DataFrame(\n",
        "    overall_bigram_accuracies, \n",
        "    columns=['Dataset', 'TF Accuracy', 'TF-IDF Accuracy', 'TF-MDFS Accuracy', 'Improvement over TF']\n",
        ")\n",
        "\n",
        "with pd.option_context('display.max_colwidth', None):\n",
        "  display(overall_bigram_accuracies)"
      ],
      "execution_count": null,
      "outputs": [
        {
          "output_type": "stream",
          "text": [
            "Overall Accuracy:\n",
            "\n"
          ],
          "name": "stdout"
        },
        {
          "output_type": "display_data",
          "data": {
            "text/html": [
              "<div>\n",
              "<style scoped>\n",
              "    .dataframe tbody tr th:only-of-type {\n",
              "        vertical-align: middle;\n",
              "    }\n",
              "\n",
              "    .dataframe tbody tr th {\n",
              "        vertical-align: top;\n",
              "    }\n",
              "\n",
              "    .dataframe thead th {\n",
              "        text-align: right;\n",
              "    }\n",
              "</style>\n",
              "<table border=\"1\" class=\"dataframe\">\n",
              "  <thead>\n",
              "    <tr style=\"text-align: right;\">\n",
              "      <th></th>\n",
              "      <th>Dataset</th>\n",
              "      <th>TF Accuracy</th>\n",
              "      <th>TF-IDF Accuracy</th>\n",
              "      <th>TF-MDFS Accuracy</th>\n",
              "      <th>Improvement over TF</th>\n",
              "    </tr>\n",
              "  </thead>\n",
              "  <tbody>\n",
              "    <tr>\n",
              "      <th>0</th>\n",
              "      <td>Amazon Review Dataset</td>\n",
              "      <td>83.500</td>\n",
              "      <td>84.600</td>\n",
              "      <td>84.933</td>\n",
              "      <td>1.433</td>\n",
              "    </tr>\n",
              "    <tr>\n",
              "      <th>1</th>\n",
              "      <td>Polarity v2.0 Movie Review Dataset</td>\n",
              "      <td>81.667</td>\n",
              "      <td>82.167</td>\n",
              "      <td>82.833</td>\n",
              "      <td>1.167</td>\n",
              "    </tr>\n",
              "    <tr>\n",
              "      <th>2</th>\n",
              "      <td>RSS Feed Topics Dataset</td>\n",
              "      <td>65.730</td>\n",
              "      <td>63.574</td>\n",
              "      <td>67.972</td>\n",
              "      <td>2.241</td>\n",
              "    </tr>\n",
              "  </tbody>\n",
              "</table>\n",
              "</div>"
            ],
            "text/plain": [
              "                              Dataset  ...  Improvement over TF\n",
              "0               Amazon Review Dataset  ...                1.433\n",
              "1  Polarity v2.0 Movie Review Dataset  ...                1.167\n",
              "2             RSS Feed Topics Dataset  ...                2.241\n",
              "\n",
              "[3 rows x 5 columns]"
            ]
          },
          "metadata": {
            "tags": []
          }
        }
      ]
    },
    {
      "cell_type": "code",
      "metadata": {
        "colab": {
          "base_uri": "https://localhost:8080/",
          "height": 513
        },
        "id": "iRvZsrCKaIO1",
        "outputId": "ef5b6bee-244c-41ec-b89f-d14a099b699a"
      },
      "source": [
        "draw_bar_graph(overall_bigram_accuracies, 'Overall Accuracy For Bigram')"
      ],
      "execution_count": null,
      "outputs": [
        {
          "output_type": "display_data",
          "data": {
            "image/png": "[encoded data removed]",
            "text/plain": [
              "<Figure size 864x576 with 1 Axes>"
            ]
          },
          "metadata": {
            "tags": [],
            "needs_background": "light"
          }
        }
      ]
    },
    {
      "cell_type": "markdown",
      "metadata": {
        "id": "7NnsNqMJz6_K"
      },
      "source": [
        "  ### Accuracy for Naive Bayes"
      ]
    },
    {
      "cell_type": "code",
      "metadata": {
        "id": "7xzOTQAZOqa2",
        "colab": {
          "base_uri": "https://localhost:8080/",
          "height": 178
        },
        "outputId": "d65bf023-e9cc-4d9c-d4f0-faa75d3c5bcd"
      },
      "source": [
        "print('Accuracy for Naive Bayes:\\n')\n",
        "\n",
        "naive_bayes_accuracies = []\n",
        "for name, dataset in datasets.items():\n",
        "  row = [\n",
        "    dataset['formal_name'],\n",
        "    round(tf_accuracies[name][0], 3),\n",
        "    round(tf_idf_accuracies[name][0], 3),\n",
        "    round(tf_mdfs_accuracies[name][0], 3)\n",
        "  ]\n",
        "  row.append(row[3] - row[1])\n",
        "\n",
        "  naive_bayes_accuracies.append(row)\n",
        "\n",
        "naive_bayes_accuracies = pd.DataFrame(\n",
        "    naive_bayes_accuracies,\n",
        "    columns=['Dataset', 'TF Accuracy', 'TF-IDF Accuracy', 'TF-MDFS Accuracy', 'Improvement over TF']\n",
        ")\n",
        "\n",
        "with pd.option_context('display.max_colwidth', None):\n",
        "  display(naive_bayes_accuracies)"
      ],
      "execution_count": null,
      "outputs": [
        {
          "output_type": "stream",
          "text": [
            "Accuracy for Naive Bayes:\n",
            "\n"
          ],
          "name": "stdout"
        },
        {
          "output_type": "display_data",
          "data": {
            "text/html": [
              "<div>\n",
              "<style scoped>\n",
              "    .dataframe tbody tr th:only-of-type {\n",
              "        vertical-align: middle;\n",
              "    }\n",
              "\n",
              "    .dataframe tbody tr th {\n",
              "        vertical-align: top;\n",
              "    }\n",
              "\n",
              "    .dataframe thead th {\n",
              "        text-align: right;\n",
              "    }\n",
              "</style>\n",
              "<table border=\"1\" class=\"dataframe\">\n",
              "  <thead>\n",
              "    <tr style=\"text-align: right;\">\n",
              "      <th></th>\n",
              "      <th>Dataset</th>\n",
              "      <th>TF Accuracy</th>\n",
              "      <th>TF-IDF Accuracy</th>\n",
              "      <th>TF-MDFS Accuracy</th>\n",
              "      <th>Improvement over TF</th>\n",
              "    </tr>\n",
              "  </thead>\n",
              "  <tbody>\n",
              "    <tr>\n",
              "      <th>0</th>\n",
              "      <td>Amazon Review Dataset</td>\n",
              "      <td>80.500</td>\n",
              "      <td>81.450</td>\n",
              "      <td>81.600</td>\n",
              "      <td>1.100</td>\n",
              "    </tr>\n",
              "    <tr>\n",
              "      <th>1</th>\n",
              "      <td>Polarity v2.0 Movie Review Dataset</td>\n",
              "      <td>79.250</td>\n",
              "      <td>79.000</td>\n",
              "      <td>80.750</td>\n",
              "      <td>1.500</td>\n",
              "    </tr>\n",
              "    <tr>\n",
              "      <th>2</th>\n",
              "      <td>RSS Feed Topics Dataset</td>\n",
              "      <td>65.532</td>\n",
              "      <td>64.255</td>\n",
              "      <td>65.447</td>\n",
              "      <td>-0.085</td>\n",
              "    </tr>\n",
              "  </tbody>\n",
              "</table>\n",
              "</div>"
            ],
            "text/plain": [
              "                              Dataset  ...  Improvement over TF\n",
              "0               Amazon Review Dataset  ...                1.100\n",
              "1  Polarity v2.0 Movie Review Dataset  ...                1.500\n",
              "2             RSS Feed Topics Dataset  ...               -0.085\n",
              "\n",
              "[3 rows x 5 columns]"
            ]
          },
          "metadata": {
            "tags": []
          }
        }
      ]
    },
    {
      "cell_type": "code",
      "metadata": {
        "id": "sm6kpcA_-bdC",
        "colab": {
          "base_uri": "https://localhost:8080/",
          "height": 513
        },
        "outputId": "86ace357-4bd5-4178-9e43-b0462a8d7d05"
      },
      "source": [
        "draw_bar_graph(naive_bayes_accuracies, 'Accuracy for Naive Bayes Classifer')"
      ],
      "execution_count": null,
      "outputs": [
        {
          "output_type": "display_data",
          "data": {
            "image/png": "[encoded data removed]",
            "text/plain": [
              "<Figure size 864x576 with 1 Axes>"
            ]
          },
          "metadata": {
            "tags": [],
            "needs_background": "light"
          }
        }
      ]
    },
    {
      "cell_type": "markdown",
      "metadata": {
        "id": "obzTZBca0BYh"
      },
      "source": [
        "### Accuracy for Support Vector Machine"
      ]
    },
    {
      "cell_type": "code",
      "metadata": {
        "id": "WHBe25D50EKW",
        "colab": {
          "base_uri": "https://localhost:8080/",
          "height": 178
        },
        "outputId": "9ee2a5ba-c32b-4f4e-803c-47bbd77cdef7"
      },
      "source": [
        "print('Accuracy for Support Vector Machine:\\n')\n",
        "\n",
        "svm_accuracies = []\n",
        "for name, dataset in datasets.items():\n",
        "  row = [\n",
        "    dataset['formal_name'],\n",
        "    round(tf_accuracies[name][1], 3),\n",
        "    round(tf_idf_accuracies[name][1], 3),\n",
        "    round(tf_mdfs_accuracies[name][1], 3)\n",
        "  ]\n",
        "  row.append(round(tf_mdfs_accuracies[name][1] - tf_accuracies[name][1], 3))\n",
        "  svm_accuracies.append(row)\n",
        "\n",
        "\n",
        "svm_accuracies = pd.DataFrame(\n",
        "    svm_accuracies, \n",
        "    columns=['Dataset', 'TF Accuracy', 'TF-IDF Accuracy', 'TF-MDFS Accuracy', 'Improvement over TF']\n",
        ")\n",
        "\n",
        "with pd.option_context('display.max_colwidth', None):\n",
        "  display(svm_accuracies)"
      ],
      "execution_count": null,
      "outputs": [
        {
          "output_type": "stream",
          "text": [
            "Accuracy for Support Vector Machine:\n",
            "\n"
          ],
          "name": "stdout"
        },
        {
          "output_type": "display_data",
          "data": {
            "text/html": [
              "<div>\n",
              "<style scoped>\n",
              "    .dataframe tbody tr th:only-of-type {\n",
              "        vertical-align: middle;\n",
              "    }\n",
              "\n",
              "    .dataframe tbody tr th {\n",
              "        vertical-align: top;\n",
              "    }\n",
              "\n",
              "    .dataframe thead th {\n",
              "        text-align: right;\n",
              "    }\n",
              "</style>\n",
              "<table border=\"1\" class=\"dataframe\">\n",
              "  <thead>\n",
              "    <tr style=\"text-align: right;\">\n",
              "      <th></th>\n",
              "      <th>Dataset</th>\n",
              "      <th>TF Accuracy</th>\n",
              "      <th>TF-IDF Accuracy</th>\n",
              "      <th>TF-MDFS Accuracy</th>\n",
              "      <th>Improvement over TF</th>\n",
              "    </tr>\n",
              "  </thead>\n",
              "  <tbody>\n",
              "    <tr>\n",
              "      <th>0</th>\n",
              "      <td>Amazon Review Dataset</td>\n",
              "      <td>82.200</td>\n",
              "      <td>83.350</td>\n",
              "      <td>83.500</td>\n",
              "      <td>1.300</td>\n",
              "    </tr>\n",
              "    <tr>\n",
              "      <th>1</th>\n",
              "      <td>Polarity v2.0 Movie Review Dataset</td>\n",
              "      <td>80.250</td>\n",
              "      <td>83.000</td>\n",
              "      <td>83.000</td>\n",
              "      <td>2.750</td>\n",
              "    </tr>\n",
              "    <tr>\n",
              "      <th>2</th>\n",
              "      <td>RSS Feed Topics Dataset</td>\n",
              "      <td>61.362</td>\n",
              "      <td>65.532</td>\n",
              "      <td>64.681</td>\n",
              "      <td>3.319</td>\n",
              "    </tr>\n",
              "  </tbody>\n",
              "</table>\n",
              "</div>"
            ],
            "text/plain": [
              "                              Dataset  ...  Improvement over TF\n",
              "0               Amazon Review Dataset  ...                1.300\n",
              "1  Polarity v2.0 Movie Review Dataset  ...                2.750\n",
              "2             RSS Feed Topics Dataset  ...                3.319\n",
              "\n",
              "[3 rows x 5 columns]"
            ]
          },
          "metadata": {
            "tags": []
          }
        }
      ]
    },
    {
      "cell_type": "code",
      "metadata": {
        "id": "ptMShamnA3ut",
        "colab": {
          "base_uri": "https://localhost:8080/",
          "height": 513
        },
        "outputId": "d6a9845c-0bdb-4b7a-a6da-eead30f0dde8"
      },
      "source": [
        "draw_bar_graph(svm_accuracies, 'Accuracy for Support Vector Machine')"
      ],
      "execution_count": null,
      "outputs": [
        {
          "output_type": "display_data",
          "data": {
            "image/png": "[encoded data removed]",
            "text/plain": [
              "<Figure size 864x576 with 1 Axes>"
            ]
          },
          "metadata": {
            "tags": [],
            "needs_background": "light"
          }
        }
      ]
    },
    {
      "cell_type": "markdown",
      "metadata": {
        "id": "uAPuDUfa0EhR"
      },
      "source": [
        "### Accuracy for Logistic Regression"
      ]
    },
    {
      "cell_type": "code",
      "metadata": {
        "id": "85qydObR0F-K",
        "colab": {
          "base_uri": "https://localhost:8080/",
          "height": 178
        },
        "outputId": "5575df1f-0051-4c68-b0e2-f62898caa66b"
      },
      "source": [
        "print('Accuracy for Logistic Regression:\\n')\n",
        "\n",
        "logistic_regression_accuracies = []\n",
        "for name, dataset in datasets.items():\n",
        "  row = [\n",
        "    dataset['formal_name'],\n",
        "    round(tf_accuracies[name][2], 3),\n",
        "    round(tf_idf_accuracies[name][2], 3),\n",
        "    round(tf_mdfs_accuracies[name][2], 3)\n",
        "  ]\n",
        "  row.append(round(tf_mdfs_accuracies[name][2] - tf_accuracies[name][2], 3))\n",
        "\n",
        "  logistic_regression_accuracies.append(row)\n",
        "\n",
        "logistic_regression_accuracies = pd.DataFrame(\n",
        "    logistic_regression_accuracies,\n",
        "    columns=['Dataset', 'TF Accuracy', 'TF-IDF Accuracy', 'TF-MDFS Accuracy', 'Improvement over TF']\n",
        ")\n",
        "\n",
        "with pd.option_context('display.max_colwidth', None):\n",
        "  display(logistic_regression_accuracies)"
      ],
      "execution_count": null,
      "outputs": [
        {
          "output_type": "stream",
          "text": [
            "Accuracy for Logistic Regression:\n",
            "\n"
          ],
          "name": "stdout"
        },
        {
          "output_type": "display_data",
          "data": {
            "text/html": [
              "<div>\n",
              "<style scoped>\n",
              "    .dataframe tbody tr th:only-of-type {\n",
              "        vertical-align: middle;\n",
              "    }\n",
              "\n",
              "    .dataframe tbody tr th {\n",
              "        vertical-align: top;\n",
              "    }\n",
              "\n",
              "    .dataframe thead th {\n",
              "        text-align: right;\n",
              "    }\n",
              "</style>\n",
              "<table border=\"1\" class=\"dataframe\">\n",
              "  <thead>\n",
              "    <tr style=\"text-align: right;\">\n",
              "      <th></th>\n",
              "      <th>Dataset</th>\n",
              "      <th>TF Accuracy</th>\n",
              "      <th>TF-IDF Accuracy</th>\n",
              "      <th>TF-MDFS Accuracy</th>\n",
              "      <th>Improvement over TF</th>\n",
              "    </tr>\n",
              "  </thead>\n",
              "  <tbody>\n",
              "    <tr>\n",
              "      <th>0</th>\n",
              "      <td>Amazon Review Dataset</td>\n",
              "      <td>82.650</td>\n",
              "      <td>82.650</td>\n",
              "      <td>83.250</td>\n",
              "      <td>0.600</td>\n",
              "    </tr>\n",
              "    <tr>\n",
              "      <th>1</th>\n",
              "      <td>Polarity v2.0 Movie Review Dataset</td>\n",
              "      <td>80.000</td>\n",
              "      <td>82.500</td>\n",
              "      <td>81.250</td>\n",
              "      <td>1.250</td>\n",
              "    </tr>\n",
              "    <tr>\n",
              "      <th>2</th>\n",
              "      <td>RSS Feed Topics Dataset</td>\n",
              "      <td>67.149</td>\n",
              "      <td>65.106</td>\n",
              "      <td>65.957</td>\n",
              "      <td>-1.191</td>\n",
              "    </tr>\n",
              "  </tbody>\n",
              "</table>\n",
              "</div>"
            ],
            "text/plain": [
              "                              Dataset  ...  Improvement over TF\n",
              "0               Amazon Review Dataset  ...                0.600\n",
              "1  Polarity v2.0 Movie Review Dataset  ...                1.250\n",
              "2             RSS Feed Topics Dataset  ...               -1.191\n",
              "\n",
              "[3 rows x 5 columns]"
            ]
          },
          "metadata": {
            "tags": []
          }
        }
      ]
    },
    {
      "cell_type": "code",
      "metadata": {
        "id": "Amyd4oElBQeI",
        "colab": {
          "base_uri": "https://localhost:8080/",
          "height": 513
        },
        "outputId": "91cbc768-abbb-4c2c-e2d6-837b5b9bda22"
      },
      "source": [
        "draw_bar_graph(logistic_regression_accuracies, 'Accuracy for Logstic Regression')"
      ],
      "execution_count": null,
      "outputs": [
        {
          "output_type": "display_data",
          "data": {
            "image/png": "[encoded data removed]",
            "text/plain": [
              "<Figure size 864x576 with 1 Axes>"
            ]
          },
          "metadata": {
            "tags": [],
            "needs_background": "light"
          }
        }
      ]
    }
  ]
}